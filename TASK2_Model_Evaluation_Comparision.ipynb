{
  "nbformat": 4,
  "nbformat_minor": 0,
  "metadata": {
    "colab": {
      "provenance": []
    },
    "kernelspec": {
      "name": "python3",
      "display_name": "Python 3"
    },
    "language_info": {
      "name": "python"
    }
  },
  "cells": [
    {
      "cell_type": "code",
      "execution_count": 1,
      "metadata": {
        "id": "X1qJahT_X-go"
      },
      "outputs": [],
      "source": [
        "# Prepare Data\n",
        "import pandas as pd\n",
        "from sklearn.model_selection import train_test_split\n",
        "from sklearn.preprocessing import LabelEncoder, StandardScaler"
      ]
    },
    {
      "cell_type": "code",
      "source": [
        "# Load Titanic dataset\n",
        "titanic_df = pd.read_csv('/content/titanic.csv')"
      ],
      "metadata": {
        "id": "1AmclZQTb3U3"
      },
      "execution_count": 2,
      "outputs": []
    },
    {
      "cell_type": "code",
      "source": [
        "# Drop irrelevant columns\n",
        "titanic_df = titanic_df.drop(['PassengerId', 'Name', 'Ticket', 'Cabin'], axis=1)"
      ],
      "metadata": {
        "id": "Rf8JRO1Ob5Ev"
      },
      "execution_count": 3,
      "outputs": []
    },
    {
      "cell_type": "code",
      "source": [
        "# Handle missing values\n",
        "titanic_df['Age'].fillna(titanic_df['Age'].median(), inplace=True)\n",
        "titanic_df['Embarked'].fillna(titanic_df['Embarked'].mode()[0], inplace=True)"
      ],
      "metadata": {
        "id": "SqRkYszvb7J4"
      },
      "execution_count": 4,
      "outputs": []
    },
    {
      "cell_type": "code",
      "source": [
        "# Encode categorical variables\n",
        "label_encoder = LabelEncoder()\n",
        "titanic_df['Sex'] = label_encoder.fit_transform(titanic_df['Sex'])\n",
        "titanic_df['Embarked'] = label_encoder.fit_transform(titanic_df['Embarked'])"
      ],
      "metadata": {
        "id": "2BjXG-MKb8vd"
      },
      "execution_count": 5,
      "outputs": []
    },
    {
      "cell_type": "code",
      "source": [
        "# Split the data into features and target variable\n",
        "X = titanic_df.drop('Survived', axis=1)\n",
        "y = titanic_df['Survived']"
      ],
      "metadata": {
        "id": "UVowjZbSb-M4"
      },
      "execution_count": 6,
      "outputs": []
    },
    {
      "cell_type": "code",
      "source": [
        "# Split the data into training and testing sets\n",
        "X_train, X_test, y_train, y_test = train_test_split(X, y, test_size=0.2, random_state=42)"
      ],
      "metadata": {
        "id": "TKgA6aX9b_1H"
      },
      "execution_count": 7,
      "outputs": []
    },
    {
      "cell_type": "code",
      "source": [
        "# Standardize the features\n",
        "scaler = StandardScaler()\n",
        "X_train_scaled = scaler.fit_transform(X_train)\n",
        "X_test_scaled = scaler.transform(X_test)"
      ],
      "metadata": {
        "id": "oC31SAUQcAV_"
      },
      "execution_count": 8,
      "outputs": []
    },
    {
      "cell_type": "code",
      "source": [
        "# Implement Models\n",
        "from sklearn.linear_model import LogisticRegression\n",
        "from sklearn.ensemble import RandomForestClassifier, GradientBoostingClassifier\n",
        "from sklearn.svm import SVC"
      ],
      "metadata": {
        "id": "Z4m6V9kkcCD0"
      },
      "execution_count": 14,
      "outputs": []
    },
    {
      "cell_type": "code",
      "source": [
        "# Initialize models\n",
        "models = {\n",
        "    \"Logistic Regression\": LogisticRegression(),\n",
        "    \"Random Forest\": RandomForestClassifier(),\n",
        "    \"SVM\": SVC(),\n",
        "    \"Gradient Boosting\": GradientBoostingClassifier()\n",
        "}"
      ],
      "metadata": {
        "id": "SFJSaB0LcD4q"
      },
      "execution_count": 15,
      "outputs": []
    },
    {
      "cell_type": "code",
      "source": [
        "# Train models\n",
        "for name, model in models.items():\n",
        "    model.fit(X_train_scaled, y_train)"
      ],
      "metadata": {
        "id": "LIt67qGQcFuh"
      },
      "execution_count": 16,
      "outputs": []
    },
    {
      "cell_type": "code",
      "source": [
        "# Evaluate Models\n",
        "from sklearn.metrics import accuracy_score, precision_score, recall_score, f1_score\n",
        "\n",
        "results = {}\n",
        "for name, model in models.items():\n",
        "    y_pred = model.predict(X_test_scaled)\n",
        "    accuracy = accuracy_score(y_test, y_pred)\n",
        "    precision = precision_score(y_test, y_pred)\n",
        "    recall = recall_score(y_test, y_pred)\n",
        "    f1 = f1_score(y_test, y_pred)\n",
        "    results[name] = {\n",
        "        \"accuracy\": accuracy,\n",
        "        \"precision\": precision,\n",
        "        \"recall\": recall,\n",
        "        \"f1_score\": f1\n",
        "    }"
      ],
      "metadata": {
        "id": "N8pGSi-wcI2x"
      },
      "execution_count": 17,
      "outputs": []
    },
    {
      "cell_type": "code",
      "source": [
        "# Print results\n",
        "for name, metrics in results.items():\n",
        "    print(f\"Model: {name}\")\n",
        "    print(f\"Accuracy: {metrics['accuracy']:.2f}\")\n",
        "    print(f\"Precision: {metrics['precision']:.2f}\")\n",
        "    print(f\"Recall: {metrics['recall']:.2f}\")\n",
        "    print(f\"F1 Score: {metrics['f1_score']:.2f}\")\n",
        "    print()"
      ],
      "metadata": {
        "colab": {
          "base_uri": "https://localhost:8080/"
        },
        "id": "m6azqVpAcNPn",
        "outputId": "1d4147f3-8245-43aa-da21-17c121d54060"
      },
      "execution_count": 18,
      "outputs": [
        {
          "output_type": "stream",
          "name": "stdout",
          "text": [
            "Model: Logistic Regression\n",
            "Accuracy: 0.80\n",
            "Precision: 0.78\n",
            "Recall: 0.73\n",
            "F1 Score: 0.76\n",
            "\n",
            "Model: Random Forest\n",
            "Accuracy: 0.82\n",
            "Precision: 0.78\n",
            "Recall: 0.77\n",
            "F1 Score: 0.78\n",
            "\n",
            "Model: SVM\n",
            "Accuracy: 0.82\n",
            "Precision: 0.82\n",
            "Recall: 0.72\n",
            "F1 Score: 0.76\n",
            "\n",
            "Model: Gradient Boosting\n",
            "Accuracy: 0.81\n",
            "Precision: 0.81\n",
            "Recall: 0.70\n",
            "F1 Score: 0.75\n",
            "\n"
          ]
        }
      ]
    }
  ]
}